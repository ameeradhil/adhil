{
 "cells": [
  {
   "cell_type": "markdown",
   "id": "eed56acd-9d15-4985-9d0c-5408790711fd",
   "metadata": {
    "tags": []
   },
   "source": [
    "# Data Science Tools and Ecosystem "
   ]
  },
  {
   "cell_type": "markdown",
   "id": "fa08e1a4-56b5-4ee5-b6e9-040a39c8452a",
   "metadata": {},
   "source": [
    "In this notebook, Data Science Tools and Ecosystem are summarized.<br>\n",
    " **Objectives:** \n",
    "- List popular languages for Data Science.\n",
    "- Introduce commonly used libraries by Data Scientists.\n",
    "- Explain open source development environments for Data Science.\n",
    "- Illustrate basic calculations and expressions in Python for Data Science tasks.\n"
   ]
  },
  {
   "cell_type": "markdown",
   "id": "5593b1b0-b4ec-4466-979e-f25bf75804be",
   "metadata": {},
   "source": [
    "Some of the popular languages that Data Scientists use are:"
   ]
  },
  {
   "cell_type": "markdown",
   "id": "5f0465df-f5c5-424a-8a80-a05c93e10670",
   "metadata": {},
   "source": [
    "1. Python\n",
    "2. R\n",
    "3. SQL\n",
    "4. Julia"
   ]
  },
  {
   "cell_type": "markdown",
   "id": "bad9ea67-4c52-4d08-9160-e264f0787f05",
   "metadata": {},
   "source": [
    "Some of the commonly used libraries used by Data Scientists include:"
   ]
  },
  {
   "cell_type": "markdown",
   "id": "10be8b83-b376-4ad0-8199-bcf4ef6613c7",
   "metadata": {},
   "source": [
    "- NumPy\n",
    "- pandas\n",
    "- Matplotlib\n",
    "- TensorFlow\n"
   ]
  },
  {
   "cell_type": "markdown",
   "id": "51e619db-c55f-4db3-8ad5-a7efd6a5a1b4",
   "metadata": {},
   "source": [
    "|Data Science Tools|\n",
    "|------------------|\n",
    "|Jupyter Notebook|\n",
    "|RStudio|\n",
    "|Apache Zeppelin|"
   ]
  },
  {
   "cell_type": "markdown",
   "id": "b15a3d07-e4a7-4e58-ba06-db7ab2084711",
   "metadata": {},
   "source": [
    "### Below are a few examples of evaluating arithmetic expressions in Python"
   ]
  },
  {
   "cell_type": "markdown",
   "id": "42e5e3b9-2c9b-4786-9a7e-8ff6f2f5e366",
   "metadata": {},
   "source": [
    "# This a simple arithmetic expression to mutiply then add integers"
   ]
  },
  {
   "cell_type": "code",
   "execution_count": 1,
   "id": "51a3ac8b-83cf-4a69-aebd-52a2a1a58639",
   "metadata": {
    "tags": []
   },
   "outputs": [
    {
     "data": {
      "text/plain": [
       "17"
      ]
     },
     "execution_count": 1,
     "metadata": {},
     "output_type": "execute_result"
    }
   ],
   "source": [
    "(3*4)+5"
   ]
  },
  {
   "cell_type": "markdown",
   "id": "0d096a65-781f-4f55-8842-ea5293b4c9a7",
   "metadata": {},
   "source": [
    "# This will convert 200 minutes to hours by diving by 60"
   ]
  },
  {
   "cell_type": "code",
   "execution_count": 3,
   "id": "aa008c4e-6d4e-4b96-b2eb-7fdf07a11c62",
   "metadata": {
    "tags": []
   },
   "outputs": [
    {
     "data": {
      "text/plain": [
       "3.3333333333333335"
      ]
     },
     "execution_count": 3,
     "metadata": {},
     "output_type": "execute_result"
    }
   ],
   "source": [
    "200/60"
   ]
  },
  {
   "cell_type": "markdown",
   "id": "34202bd0-09b3-4724-aadc-6fc73c5a551a",
   "metadata": {},
   "source": [
    "## Author\n",
    "Adhil Ameer"
   ]
  },
  {
   "cell_type": "code",
   "execution_count": null,
   "id": "ccde443c-57ff-45e6-b10a-769b61a6a502",
   "metadata": {},
   "outputs": [],
   "source": []
  }
 ],
 "metadata": {
  "kernelspec": {
   "display_name": "Python",
   "language": "python",
   "name": "conda-env-python-py"
  },
  "language_info": {
   "codemirror_mode": {
    "name": "ipython",
    "version": 3
   },
   "file_extension": ".py",
   "mimetype": "text/x-python",
   "name": "python",
   "nbconvert_exporter": "python",
   "pygments_lexer": "ipython3",
   "version": "3.7.12"
  }
 },
 "nbformat": 4,
 "nbformat_minor": 5
}
